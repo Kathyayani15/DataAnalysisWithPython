{
  "nbformat": 4,
  "nbformat_minor": 0,
  "metadata": {
    "colab": {
      "provenance": [],
      "authorship_tag": "ABX9TyP1VQS0llgJ6kD9nR2kPOvn",
      "include_colab_link": true
    },
    "kernelspec": {
      "name": "python3",
      "display_name": "Python 3"
    },
    "language_info": {
      "name": "python"
    }
  },
  "cells": [
    {
      "cell_type": "markdown",
      "metadata": {
        "id": "view-in-github",
        "colab_type": "text"
      },
      "source": [
        "<a href=\"https://colab.research.google.com/github/Kathyayani15/DataAnalysisWithPython/blob/main/mean_var_std.ipynb\" target=\"_parent\"><img src=\"https://colab.research.google.com/assets/colab-badge.svg\" alt=\"Open In Colab\"/></a>"
      ]
    },
    {
      "cell_type": "code",
      "source": [
        "import numpy as np\n",
        "\n",
        "def calculate(list):\n",
        "    if len(list) != 9:\n",
        "        raise ValueError(\"List must contain nine numbers.\")\n",
        "\n",
        "    # Convert the list into a 3x3 Numpy array\n",
        "    matrix = np.array(list).reshape(3, 3)\n",
        "\n",
        "    # Calculate the required statistics\n",
        "    calculations = {\n",
        "        'mean': [matrix.mean(axis=0).tolist(), matrix.mean(axis=1).tolist(), matrix.mean().tolist()],\n",
        "        'variance': [matrix.var(axis=0).tolist(), matrix.var(axis=1).tolist(), matrix.var().tolist()],\n",
        "        'standard deviation': [matrix.std(axis=0).tolist(), matrix.std(axis=1).tolist(), matrix.std().tolist()],\n",
        "        'max': [matrix.max(axis=0).tolist(), matrix.max(axis=1).tolist(), matrix.max().tolist()],\n",
        "        'min': [matrix.min(axis=0).tolist(), matrix.min(axis=1).tolist(), matrix.min().tolist()],\n",
        "        'sum': [matrix.sum(axis=0).tolist(), matrix.sum(axis=1).tolist(), matrix.sum().tolist()]\n",
        "    }\n",
        "\n",
        "    return calculations\n",
        "\n",
        "# Collect user input dynamically\n",
        "try:\n",
        "    user_input = input(\"Enter nine numbers separated by space: \")\n",
        "    user_list = [int(x) for x in user_input.split()]\n",
        "    result = calculate(user_list)\n",
        "    print(result)\n",
        "except ValueError as e:\n",
        "    print(e)\n"
      ],
      "metadata": {
        "colab": {
          "base_uri": "https://localhost:8080/"
        },
        "id": "zmJv3FXOeiIA",
        "outputId": "5ff3da3d-c1c2-47df-cdf7-8cee83a736d4"
      },
      "execution_count": 7,
      "outputs": [
        {
          "output_type": "stream",
          "name": "stdout",
          "text": [
            "Enter nine numbers separated by space: 10 11 12 13 14 15 16 17 18\n",
            "{'mean': [[13.0, 14.0, 15.0], [11.0, 14.0, 17.0], 14.0], 'variance': [[6.0, 6.0, 6.0], [0.6666666666666666, 0.6666666666666666, 0.6666666666666666], 6.666666666666667], 'standard deviation': [[2.449489742783178, 2.449489742783178, 2.449489742783178], [0.816496580927726, 0.816496580927726, 0.816496580927726], 2.581988897471611], 'max': [[16, 17, 18], [12, 15, 18], 18], 'min': [[10, 11, 12], [10, 13, 16], 10], 'sum': [[39, 42, 45], [33, 42, 51], 126]}\n"
          ]
        }
      ]
    }
  ]
}